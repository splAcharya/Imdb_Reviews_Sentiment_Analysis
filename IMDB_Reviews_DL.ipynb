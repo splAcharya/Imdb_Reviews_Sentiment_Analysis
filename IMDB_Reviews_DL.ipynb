{
  "nbformat": 4,
  "nbformat_minor": 0,
  "metadata": {
    "accelerator": "GPU",
    "colab": {
      "name": "IMDB_Reviews_DL.ipynb",
      "provenance": [],
      "collapsed_sections": [],
      "authorship_tag": "ABX9TyM5PkGs2WTzjBssBMRK3Ard",
      "include_colab_link": true
    },
    "kernelspec": {
      "display_name": "Python 3",
      "name": "python3"
    },
    "language_info": {
      "name": "python"
    }
  },
  "cells": [
    {
      "cell_type": "markdown",
      "metadata": {
        "id": "view-in-github",
        "colab_type": "text"
      },
      "source": [
        "<a href=\"https://colab.research.google.com/github/splAcharya/Imdb_Reviews_Sentiment_Analysis/blob/main/IMDB_Reviews_DL.ipynb\" target=\"_parent\"><img src=\"https://colab.research.google.com/assets/colab-badge.svg\" alt=\"Open In Colab\"/></a>"
      ]
    },
    {
      "cell_type": "code",
      "metadata": {
        "id": "CEQ5jESF161n"
      },
      "source": [
        "import tensorflow as tf\n",
        "import os\n",
        "from matplotlib import pyplot as plt\n",
        "import numpy as np\n",
        "import pandas as pd\n",
        "from sklearn.model_selection import train_test_split\n",
        "import re\n",
        "import string"
      ],
      "execution_count": 68,
      "outputs": []
    },
    {
      "cell_type": "code",
      "metadata": {
        "id": "gAC1wclP24X2"
      },
      "source": [
        ""
      ],
      "execution_count": 1,
      "outputs": []
    },
    {
      "cell_type": "markdown",
      "metadata": {
        "id": "bWKRhQuI31Zb"
      },
      "source": [
        "## Download and Organize Data from Kaggle"
      ]
    },
    {
      "cell_type": "code",
      "metadata": {
        "id": "X1ePUc-z337a"
      },
      "source": [
        "os.environ['KAGGLE_USERNAME'] = \"hellosomeone\" # username from the json file\n",
        "os.environ['KAGGLE_KEY'] = \"9de45792bb324a2134b4d832ce808ea8\" # key from the json file"
      ],
      "execution_count": 2,
      "outputs": []
    },
    {
      "cell_type": "code",
      "metadata": {
        "colab": {
          "base_uri": "https://localhost:8080/"
        },
        "id": "AG2Awqg736W2",
        "outputId": "cc09e0c3-4cad-4d9f-e9a1-cfe2a4dfe586"
      },
      "source": [
        "!kaggle datasets download -d lakshmi25npathi/imdb-dataset-of-50k-movie-reviews #download data from kaggle"
      ],
      "execution_count": 3,
      "outputs": [
        {
          "output_type": "stream",
          "name": "stdout",
          "text": [
            "Downloading imdb-dataset-of-50k-movie-reviews.zip to /content\n",
            " 86% 22.0M/25.7M [00:00<00:00, 46.4MB/s]\n",
            "100% 25.7M/25.7M [00:00<00:00, 64.4MB/s]\n"
          ]
        }
      ]
    },
    {
      "cell_type": "code",
      "metadata": {
        "colab": {
          "base_uri": "https://localhost:8080/"
        },
        "id": "lvNU52VI3_km",
        "outputId": "0c7d3b89-a5b8-4ecd-ff73-016269d4f196"
      },
      "source": [
        "!ls"
      ],
      "execution_count": 4,
      "outputs": [
        {
          "output_type": "stream",
          "name": "stdout",
          "text": [
            "imdb-dataset-of-50k-movie-reviews.zip  sample_data\n"
          ]
        }
      ]
    },
    {
      "cell_type": "code",
      "metadata": {
        "id": "UzTNs5wX4BNh"
      },
      "source": [
        "!mkdir dataset"
      ],
      "execution_count": 5,
      "outputs": []
    },
    {
      "cell_type": "code",
      "metadata": {
        "id": "oHT2nqzi4HGn"
      },
      "source": [
        "!unzip -q imdb-dataset-of-50k-movie-reviews.zip -d dataset/"
      ],
      "execution_count": 6,
      "outputs": []
    },
    {
      "cell_type": "code",
      "metadata": {
        "colab": {
          "base_uri": "https://localhost:8080/"
        },
        "id": "48DHrxYu4LSs",
        "outputId": "9b4d43f1-6b96-4402-8c1b-e0ff62ff1226"
      },
      "source": [
        "!ls dataset/"
      ],
      "execution_count": 7,
      "outputs": [
        {
          "output_type": "stream",
          "name": "stdout",
          "text": [
            "'IMDB Dataset.csv'\n"
          ]
        }
      ]
    },
    {
      "cell_type": "code",
      "metadata": {
        "id": "3LKoXZre47WB"
      },
      "source": [
        "!mv dataset/\"IMDB Dataset.csv\" dataset/IMDB_Dataset.csv"
      ],
      "execution_count": 8,
      "outputs": []
    },
    {
      "cell_type": "code",
      "metadata": {
        "colab": {
          "base_uri": "https://localhost:8080/"
        },
        "id": "vvgfM_2F4WtC",
        "outputId": "5df51fc8-1b17-4bde-bd86-bc4e01d4a48a"
      },
      "source": [
        "!ls dataset/"
      ],
      "execution_count": 9,
      "outputs": [
        {
          "output_type": "stream",
          "name": "stdout",
          "text": [
            "IMDB_Dataset.csv\n"
          ]
        }
      ]
    },
    {
      "cell_type": "code",
      "metadata": {
        "colab": {
          "base_uri": "https://localhost:8080/"
        },
        "id": "5HnWoXDl4RHp",
        "outputId": "d9632374-b55b-47de-dc67-1f03991b4247"
      },
      "source": [
        "!ls"
      ],
      "execution_count": 10,
      "outputs": [
        {
          "output_type": "stream",
          "name": "stdout",
          "text": [
            "dataset  imdb-dataset-of-50k-movie-reviews.zip\tsample_data\n"
          ]
        }
      ]
    },
    {
      "cell_type": "code",
      "metadata": {
        "id": "6UqCB6ov4N2V"
      },
      "source": [
        "!rm  -f imdb-dataset-of-50k-movie-reviews.zip"
      ],
      "execution_count": 11,
      "outputs": []
    },
    {
      "cell_type": "code",
      "metadata": {
        "colab": {
          "base_uri": "https://localhost:8080/"
        },
        "id": "91-7ENQX5MAH",
        "outputId": "6eae97c6-aae9-4f9c-9235-52c8ffd464e3"
      },
      "source": [
        "!ls"
      ],
      "execution_count": 12,
      "outputs": [
        {
          "output_type": "stream",
          "name": "stdout",
          "text": [
            "dataset  sample_data\n"
          ]
        }
      ]
    },
    {
      "cell_type": "code",
      "metadata": {
        "id": "NYhwhbbh5Mez"
      },
      "source": [
        ""
      ],
      "execution_count": 12,
      "outputs": []
    },
    {
      "cell_type": "markdown",
      "metadata": {
        "id": "u-zBrTE05gwK"
      },
      "source": [
        "## Convert Data to Tensorflow Datasets"
      ]
    },
    {
      "cell_type": "code",
      "metadata": {
        "id": "ix_DMDpX5kiI"
      },
      "source": [
        "raw_data_df = pd.read_csv('dataset/IMDB_Dataset.csv')"
      ],
      "execution_count": 13,
      "outputs": []
    },
    {
      "cell_type": "code",
      "metadata": {
        "colab": {
          "base_uri": "https://localhost:8080/",
          "height": 206
        },
        "id": "HcWcl-lr568b",
        "outputId": "7247003c-3152-4e15-edb5-958c20555901"
      },
      "source": [
        "raw_data_df.head()"
      ],
      "execution_count": 14,
      "outputs": [
        {
          "output_type": "execute_result",
          "data": {
            "text/html": [
              "<div>\n",
              "<style scoped>\n",
              "    .dataframe tbody tr th:only-of-type {\n",
              "        vertical-align: middle;\n",
              "    }\n",
              "\n",
              "    .dataframe tbody tr th {\n",
              "        vertical-align: top;\n",
              "    }\n",
              "\n",
              "    .dataframe thead th {\n",
              "        text-align: right;\n",
              "    }\n",
              "</style>\n",
              "<table border=\"1\" class=\"dataframe\">\n",
              "  <thead>\n",
              "    <tr style=\"text-align: right;\">\n",
              "      <th></th>\n",
              "      <th>review</th>\n",
              "      <th>sentiment</th>\n",
              "    </tr>\n",
              "  </thead>\n",
              "  <tbody>\n",
              "    <tr>\n",
              "      <th>0</th>\n",
              "      <td>One of the other reviewers has mentioned that ...</td>\n",
              "      <td>positive</td>\n",
              "    </tr>\n",
              "    <tr>\n",
              "      <th>1</th>\n",
              "      <td>A wonderful little production. &lt;br /&gt;&lt;br /&gt;The...</td>\n",
              "      <td>positive</td>\n",
              "    </tr>\n",
              "    <tr>\n",
              "      <th>2</th>\n",
              "      <td>I thought this was a wonderful way to spend ti...</td>\n",
              "      <td>positive</td>\n",
              "    </tr>\n",
              "    <tr>\n",
              "      <th>3</th>\n",
              "      <td>Basically there's a family where a little boy ...</td>\n",
              "      <td>negative</td>\n",
              "    </tr>\n",
              "    <tr>\n",
              "      <th>4</th>\n",
              "      <td>Petter Mattei's \"Love in the Time of Money\" is...</td>\n",
              "      <td>positive</td>\n",
              "    </tr>\n",
              "  </tbody>\n",
              "</table>\n",
              "</div>"
            ],
            "text/plain": [
              "                                              review sentiment\n",
              "0  One of the other reviewers has mentioned that ...  positive\n",
              "1  A wonderful little production. <br /><br />The...  positive\n",
              "2  I thought this was a wonderful way to spend ti...  positive\n",
              "3  Basically there's a family where a little boy ...  negative\n",
              "4  Petter Mattei's \"Love in the Time of Money\" is...  positive"
            ]
          },
          "metadata": {},
          "execution_count": 14
        }
      ]
    },
    {
      "cell_type": "code",
      "metadata": {
        "id": "wT-azKrdAODm"
      },
      "source": [
        "raw_data_df['sentiment'] = raw_data_df['sentiment'].apply(lambda row : 1 if row == 'positive' else 0)"
      ],
      "execution_count": 15,
      "outputs": []
    },
    {
      "cell_type": "code",
      "metadata": {
        "colab": {
          "base_uri": "https://localhost:8080/",
          "height": 206
        },
        "id": "xYXxZYSK9dJt",
        "outputId": "88001763-10db-44cb-c229-0fbbabc9407d"
      },
      "source": [
        "raw_data_df.head()"
      ],
      "execution_count": 16,
      "outputs": [
        {
          "output_type": "execute_result",
          "data": {
            "text/html": [
              "<div>\n",
              "<style scoped>\n",
              "    .dataframe tbody tr th:only-of-type {\n",
              "        vertical-align: middle;\n",
              "    }\n",
              "\n",
              "    .dataframe tbody tr th {\n",
              "        vertical-align: top;\n",
              "    }\n",
              "\n",
              "    .dataframe thead th {\n",
              "        text-align: right;\n",
              "    }\n",
              "</style>\n",
              "<table border=\"1\" class=\"dataframe\">\n",
              "  <thead>\n",
              "    <tr style=\"text-align: right;\">\n",
              "      <th></th>\n",
              "      <th>review</th>\n",
              "      <th>sentiment</th>\n",
              "    </tr>\n",
              "  </thead>\n",
              "  <tbody>\n",
              "    <tr>\n",
              "      <th>0</th>\n",
              "      <td>One of the other reviewers has mentioned that ...</td>\n",
              "      <td>1</td>\n",
              "    </tr>\n",
              "    <tr>\n",
              "      <th>1</th>\n",
              "      <td>A wonderful little production. &lt;br /&gt;&lt;br /&gt;The...</td>\n",
              "      <td>1</td>\n",
              "    </tr>\n",
              "    <tr>\n",
              "      <th>2</th>\n",
              "      <td>I thought this was a wonderful way to spend ti...</td>\n",
              "      <td>1</td>\n",
              "    </tr>\n",
              "    <tr>\n",
              "      <th>3</th>\n",
              "      <td>Basically there's a family where a little boy ...</td>\n",
              "      <td>0</td>\n",
              "    </tr>\n",
              "    <tr>\n",
              "      <th>4</th>\n",
              "      <td>Petter Mattei's \"Love in the Time of Money\" is...</td>\n",
              "      <td>1</td>\n",
              "    </tr>\n",
              "  </tbody>\n",
              "</table>\n",
              "</div>"
            ],
            "text/plain": [
              "                                              review  sentiment\n",
              "0  One of the other reviewers has mentioned that ...          1\n",
              "1  A wonderful little production. <br /><br />The...          1\n",
              "2  I thought this was a wonderful way to spend ti...          1\n",
              "3  Basically there's a family where a little boy ...          0\n",
              "4  Petter Mattei's \"Love in the Time of Money\" is...          1"
            ]
          },
          "metadata": {},
          "execution_count": 16
        }
      ]
    },
    {
      "cell_type": "code",
      "metadata": {
        "colab": {
          "base_uri": "https://localhost:8080/"
        },
        "id": "H2E4COQnWxeg",
        "outputId": "ee000845-074d-4fd2-9b20-192bb89f713b"
      },
      "source": [
        "len(raw_data_df[raw_data_df['sentiment'] == 1])"
      ],
      "execution_count": 17,
      "outputs": [
        {
          "output_type": "execute_result",
          "data": {
            "text/plain": [
              "25000"
            ]
          },
          "metadata": {},
          "execution_count": 17
        }
      ]
    },
    {
      "cell_type": "code",
      "metadata": {
        "colab": {
          "base_uri": "https://localhost:8080/"
        },
        "id": "M6CP415SW2S5",
        "outputId": "8ef8e931-3d18-4e6b-9399-483a88048471"
      },
      "source": [
        "len(raw_data_df[raw_data_df['sentiment'] == 0])"
      ],
      "execution_count": 18,
      "outputs": [
        {
          "output_type": "execute_result",
          "data": {
            "text/plain": [
              "25000"
            ]
          },
          "metadata": {},
          "execution_count": 18
        }
      ]
    },
    {
      "cell_type": "code",
      "metadata": {
        "id": "FmdhL7KrW4Py"
      },
      "source": [
        ""
      ],
      "execution_count": 18,
      "outputs": []
    },
    {
      "cell_type": "code",
      "metadata": {
        "id": "xq4vf3uhQYmJ"
      },
      "source": [
        "features = raw_data_df['review'].to_numpy()\n",
        "labels = raw_data_df['sentiment'].to_numpy()"
      ],
      "execution_count": 19,
      "outputs": []
    },
    {
      "cell_type": "code",
      "metadata": {
        "colab": {
          "base_uri": "https://localhost:8080/"
        },
        "id": "FI3ccBcLU_vk",
        "outputId": "ef733844-dfc2-40d7-8083-e821e574cae4"
      },
      "source": [
        "features.shape"
      ],
      "execution_count": 20,
      "outputs": [
        {
          "output_type": "execute_result",
          "data": {
            "text/plain": [
              "(50000,)"
            ]
          },
          "metadata": {},
          "execution_count": 20
        }
      ]
    },
    {
      "cell_type": "code",
      "metadata": {
        "colab": {
          "base_uri": "https://localhost:8080/"
        },
        "id": "PA_wcKylU_x0",
        "outputId": "e94edd6e-3aa5-4b6b-d71a-45e06848d068"
      },
      "source": [
        "labels.shape"
      ],
      "execution_count": 21,
      "outputs": [
        {
          "output_type": "execute_result",
          "data": {
            "text/plain": [
              "(50000,)"
            ]
          },
          "metadata": {},
          "execution_count": 21
        }
      ]
    },
    {
      "cell_type": "code",
      "metadata": {
        "id": "0S5CyrlnXuL8"
      },
      "source": [
        "features_train, features_test, labels_train, labels_test = train_test_split(features, labels, test_size=0.4, random_state = 0)"
      ],
      "execution_count": 22,
      "outputs": []
    },
    {
      "cell_type": "code",
      "metadata": {
        "id": "4P4NC7J7XuU0"
      },
      "source": [
        "features_valid, features_test, labels_valid, labels_test = train_test_split(features_test, labels_test, test_size=0.5, random_state=0)"
      ],
      "execution_count": 23,
      "outputs": []
    },
    {
      "cell_type": "code",
      "metadata": {
        "id": "R6u9JtwHcYte"
      },
      "source": [
        ""
      ],
      "execution_count": 23,
      "outputs": []
    },
    {
      "cell_type": "code",
      "metadata": {
        "id": "8R6jRJKlcYwA"
      },
      "source": [
        ""
      ],
      "execution_count": 23,
      "outputs": []
    },
    {
      "cell_type": "code",
      "metadata": {
        "id": "aOLtI5gaU_z6"
      },
      "source": [
        "features_train = tf.convert_to_tensor(features_train)\n",
        "labels_train = tf.convert_to_tensor(labels_train)"
      ],
      "execution_count": 24,
      "outputs": []
    },
    {
      "cell_type": "code",
      "metadata": {
        "id": "FEGgAPxmnUpN"
      },
      "source": [
        "features_valid = tf.convert_to_tensor(features_valid)\n",
        "labels_valid = tf.convert_to_tensor(labels_valid)"
      ],
      "execution_count": 25,
      "outputs": []
    },
    {
      "cell_type": "code",
      "metadata": {
        "id": "w16ypjAmnhJm"
      },
      "source": [
        "features_test = tf.convert_to_tensor(features_test)\n",
        "labels_test = tf.convert_to_tensor(labels_test)"
      ],
      "execution_count": 26,
      "outputs": []
    },
    {
      "cell_type": "code",
      "metadata": {
        "id": "CcDSvYC6novd"
      },
      "source": [
        ""
      ],
      "execution_count": 26,
      "outputs": []
    },
    {
      "cell_type": "code",
      "metadata": {
        "id": "vFP6iI9Zwbhq"
      },
      "source": [
        ""
      ],
      "execution_count": 26,
      "outputs": []
    },
    {
      "cell_type": "code",
      "metadata": {
        "colab": {
          "base_uri": "https://localhost:8080/"
        },
        "id": "8cnRMe8knrZK",
        "outputId": "bd2c0def-75b9-47de-f2c3-0f5dfd3502f2"
      },
      "source": [
        "train_ds = tf.data.Dataset.from_tensor_slices((features_train, labels_train))\n",
        "next(iter(train_ds))"
      ],
      "execution_count": 27,
      "outputs": [
        {
          "output_type": "execute_result",
          "data": {
            "text/plain": [
              "(<tf.Tensor: shape=(), dtype=string, numpy=b'Liked Stanley & Iris very much. Acting was very good. Story had a unique and interesting arrangement. The absence of violence and porno sex was refreshing. Characters were very convincing and felt like you could understand their feelings. Very enjoyable movie.'>,\n",
              " <tf.Tensor: shape=(), dtype=int64, numpy=1>)"
            ]
          },
          "metadata": {},
          "execution_count": 27
        }
      ]
    },
    {
      "cell_type": "code",
      "metadata": {
        "id": "NdeIyNN6os7q"
      },
      "source": [
        ""
      ],
      "execution_count": 27,
      "outputs": []
    },
    {
      "cell_type": "code",
      "metadata": {
        "colab": {
          "base_uri": "https://localhost:8080/"
        },
        "id": "4uUqyfl3n_2C",
        "outputId": "2aa6e26d-f90c-4b3b-fbbc-8258b3e40bcb"
      },
      "source": [
        "valid_ds = tf.data.Dataset.from_tensor_slices((features_valid, labels_valid))\n",
        "next(iter(valid_ds))"
      ],
      "execution_count": 28,
      "outputs": [
        {
          "output_type": "execute_result",
          "data": {
            "text/plain": [
              "(<tf.Tensor: shape=(), dtype=string, numpy=b'This version of \"The Magic Flute\" is not only the worst production of Mozart\\'s great opera that I have ever seen, it is also the worst video production I have seen of any opera.<br /><br />I\\'m a big opera fan and I have more opera on DVD than movies. The sets are cheap and cheesy. Papageno doesn\\'t even have a bird costume. He is just dressed like some guy. The sound is in mono. The color is really bad. It is saturated in orange. Most DVD\\'s from this period have the color digitally restored, but they did not bother with this one. Also, the language has been changed to Swedish instead of the original German.<br /><br />This is not a movie version of \"The Magic Flute.\" It is a filmed performance and it is not a good performance and it was not filmed very well. You can pick any other available DVD of this opera and I guarantee it will be better than this one. My preference is for the version conducted by James Levine with sets by David Hockney.'>,\n",
              " <tf.Tensor: shape=(), dtype=int64, numpy=0>)"
            ]
          },
          "metadata": {},
          "execution_count": 28
        }
      ]
    },
    {
      "cell_type": "code",
      "metadata": {
        "id": "EBGQDzk_owwr"
      },
      "source": [
        ""
      ],
      "execution_count": 28,
      "outputs": []
    },
    {
      "cell_type": "code",
      "metadata": {
        "colab": {
          "base_uri": "https://localhost:8080/"
        },
        "id": "CB20CX8_nrb9",
        "outputId": "2739a0be-5e6b-4905-b736-1304fb4fe8c0"
      },
      "source": [
        "test_ds = tf.data.Dataset.from_tensor_slices((features_test, labels_test))\n",
        "next(iter(test_ds))"
      ],
      "execution_count": 29,
      "outputs": [
        {
          "output_type": "execute_result",
          "data": {
            "text/plain": [
              "(<tf.Tensor: shape=(), dtype=string, numpy=b\"Leslie Nielson is a very talented actor, who made a huge mistake by doing this film. It doesn't even come close to being funny. The best word to describe it is STUPID!\">,\n",
              " <tf.Tensor: shape=(), dtype=int64, numpy=0>)"
            ]
          },
          "metadata": {},
          "execution_count": 29
        }
      ]
    },
    {
      "cell_type": "code",
      "metadata": {
        "id": "MidcrSfSXECc"
      },
      "source": [
        ""
      ],
      "execution_count": 29,
      "outputs": []
    },
    {
      "cell_type": "code",
      "metadata": {
        "id": "wJNHccJvozOC"
      },
      "source": [
        "BATCH_SIZE = 64"
      ],
      "execution_count": 30,
      "outputs": []
    },
    {
      "cell_type": "code",
      "metadata": {
        "colab": {
          "base_uri": "https://localhost:8080/"
        },
        "id": "Ho-m8jmlonpQ",
        "outputId": "a07de245-0728-4689-9bdb-2e2eec20ca7e"
      },
      "source": [
        "train_ds = train_ds.batch(batch_size=BATCH_SIZE)\n",
        "train_ds.cardinality()"
      ],
      "execution_count": 31,
      "outputs": [
        {
          "output_type": "execute_result",
          "data": {
            "text/plain": [
              "<tf.Tensor: shape=(), dtype=int64, numpy=469>"
            ]
          },
          "metadata": {},
          "execution_count": 31
        }
      ]
    },
    {
      "cell_type": "code",
      "metadata": {
        "colab": {
          "base_uri": "https://localhost:8080/"
        },
        "id": "Emp0qAflogwz",
        "outputId": "d10661c7-f1a9-4c63-d99c-120ca44206a3"
      },
      "source": [
        "valid_ds = valid_ds.batch(batch_size=BATCH_SIZE)\n",
        "train_ds.cardinality()"
      ],
      "execution_count": 32,
      "outputs": [
        {
          "output_type": "execute_result",
          "data": {
            "text/plain": [
              "<tf.Tensor: shape=(), dtype=int64, numpy=469>"
            ]
          },
          "metadata": {},
          "execution_count": 32
        }
      ]
    },
    {
      "cell_type": "code",
      "metadata": {
        "colab": {
          "base_uri": "https://localhost:8080/"
        },
        "id": "7BXyvhUGpTUu",
        "outputId": "4bbb850e-6c66-4fef-d899-a9ca546c2579"
      },
      "source": [
        "test_ds = test_ds.batch(batch_size=BATCH_SIZE)\n",
        "test_ds.cardinality()"
      ],
      "execution_count": 33,
      "outputs": [
        {
          "output_type": "execute_result",
          "data": {
            "text/plain": [
              "<tf.Tensor: shape=(), dtype=int64, numpy=157>"
            ]
          },
          "metadata": {},
          "execution_count": 33
        }
      ]
    },
    {
      "cell_type": "code",
      "metadata": {
        "id": "9WTvl2nlJ969"
      },
      "source": [
        ""
      ],
      "execution_count": 33,
      "outputs": []
    },
    {
      "cell_type": "markdown",
      "metadata": {
        "id": "_61AzIElG2oh"
      },
      "source": [
        "## Configure dataset for Performance"
      ]
    },
    {
      "cell_type": "code",
      "metadata": {
        "id": "2crP-nU9Di38"
      },
      "source": [
        "AUTOTUNE = tf.data.AUTOTUNE\n",
        "\n",
        "train_ds = train_ds.prefetch(buffer_size=AUTOTUNE)\n",
        "valid_ds = valid_ds.prefetch(buffer_size=AUTOTUNE)\n",
        "test_ds = test_ds.prefetch(buffer_size=AUTOTUNE)"
      ],
      "execution_count": 34,
      "outputs": []
    },
    {
      "cell_type": "code",
      "metadata": {
        "id": "ERESB-cwJPo_"
      },
      "source": [
        ""
      ],
      "execution_count": 34,
      "outputs": []
    },
    {
      "cell_type": "code",
      "metadata": {
        "id": "izuNLPSaDi6E"
      },
      "source": [
        ""
      ],
      "execution_count": 34,
      "outputs": []
    },
    {
      "cell_type": "markdown",
      "metadata": {
        "id": "HphWRUQlKfSt"
      },
      "source": [
        "## Prepare dataset for trainning"
      ]
    },
    {
      "cell_type": "code",
      "metadata": {
        "id": "5DyQgnB_Di-b"
      },
      "source": [
        "def custom_standardization(input_data):\n",
        "  std_text = tf.strings.lower(input_data)#remove any urls from the text\n",
        "  std_text = tf.strings.regex_replace(std_text, r\"https:\\/\\/.*[\\r\\n]*\", '')\n",
        "  std_text = tf.strings.regex_replace(std_text, r\"www\\.\\w*\\.\\w\\w\\w\", '')\n",
        "  std_text = tf.strings.regex_replace(std_text, r\"<[\\w]*[\\s]*/>\", '')\n",
        "  std_text = tf.strings.regex_replace(std_text, '[%s]' % re.escape(string.punctuation), '')\n",
        "  std_text = tf.strings.regex_replace(std_text, '\\s{2}', '')\n",
        "  std_text = tf.strings.strip(std_text)\n",
        "  return std_text"
      ],
      "execution_count": 35,
      "outputs": []
    },
    {
      "cell_type": "code",
      "metadata": {
        "colab": {
          "base_uri": "https://localhost:8080/"
        },
        "id": "iSuj_wDiNa6r",
        "outputId": "7fbd9662-0af7-4519-c3fa-b4612f336eeb"
      },
      "source": [
        "custom_standardization(\"Hello ! <br /> I am here. Why are you upset ?\").numpy()"
      ],
      "execution_count": 36,
      "outputs": [
        {
          "output_type": "execute_result",
          "data": {
            "text/plain": [
              "b'hello i am here why are you upset'"
            ]
          },
          "metadata": {},
          "execution_count": 36
        }
      ]
    },
    {
      "cell_type": "code",
      "metadata": {
        "id": "-mm5exT9aMjG"
      },
      "source": [
        ""
      ],
      "execution_count": 36,
      "outputs": []
    },
    {
      "cell_type": "markdown",
      "metadata": {
        "id": "eFq_5EQwyF-r"
      },
      "source": [
        "## Text Encoder"
      ]
    },
    {
      "cell_type": "code",
      "metadata": {
        "id": "G7cuFk2ewlsw"
      },
      "source": [
        "#max_features = 10000\n",
        "#sequence_length = 250\n",
        "VOCAB_SIZE = 1000"
      ],
      "execution_count": 37,
      "outputs": []
    },
    {
      "cell_type": "code",
      "metadata": {
        "id": "VSS7Mko0yNn2"
      },
      "source": [
        "vectorizer_layer = tf.keras.layers.experimental.preprocessing.TextVectorization(max_tokens=VOCAB_SIZE,\n",
        "                                                                                standardize=custom_standardization)\n",
        "                                                                                #output_mode='tf_idf')"
      ],
      "execution_count": 38,
      "outputs": []
    },
    {
      "cell_type": "code",
      "metadata": {
        "id": "hplc1XIQ0NpW"
      },
      "source": [
        "vectorizer_layer.adapt(train_ds.map(lambda text, label: text))"
      ],
      "execution_count": 39,
      "outputs": []
    },
    {
      "cell_type": "code",
      "metadata": {
        "colab": {
          "base_uri": "https://localhost:8080/"
        },
        "id": "AlZV14nQ0eEY",
        "outputId": "06f8e732-a5a7-4b3b-98a5-d02c5e63e3d6"
      },
      "source": [
        "vocab = np.array(vectorizer_layer.get_vocabulary())\n",
        "vocab[:20]"
      ],
      "execution_count": 40,
      "outputs": [
        {
          "output_type": "execute_result",
          "data": {
            "text/plain": [
              "array(['', '[UNK]', 'the', 'a', 'and', 'of', 'to', 'is', 'in', 'it',\n",
              "       'this', 'i', 'that', 'was', 'as', 'with', 'for', 'movie', 'but',\n",
              "       'film'], dtype='<U14')"
            ]
          },
          "metadata": {},
          "execution_count": 40
        }
      ]
    },
    {
      "cell_type": "code",
      "metadata": {
        "id": "HzYFYHRs00a6"
      },
      "source": [
        "examples, labels = next(iter(train_ds.take(1)))"
      ],
      "execution_count": 41,
      "outputs": []
    },
    {
      "cell_type": "code",
      "metadata": {
        "colab": {
          "base_uri": "https://localhost:8080/"
        },
        "id": "r1s4CZLY1LEL",
        "outputId": "f5f1ffc4-d0fc-486e-be1e-4229ac7ce168"
      },
      "source": [
        "examples[ : 3]"
      ],
      "execution_count": 42,
      "outputs": [
        {
          "output_type": "execute_result",
          "data": {
            "text/plain": [
              "<tf.Tensor: shape=(3,), dtype=string, numpy=\n",
              "array([b'Liked Stanley & Iris very much. Acting was very good. Story had a unique and interesting arrangement. The absence of violence and porno sex was refreshing. Characters were very convincing and felt like you could understand their feelings. Very enjoyable movie.',\n",
              "       b\"The Mummy's Curse is the last in the series of the Kharis mummy films, and it seems that creativity had run somewhat dry by the time they made this one. Kharis and his mate Ananka both end up in the bayous of Louisiana, and on his resurrection, he searches out his beloved princess. How they end up in Louisiana isn't made entirely clear, but with various people trying to find them, the viewer can be assured of some mummy murders.<br /><br />The Mummy's Curse was watchable, but it really wasn't anything special. I had the feeling throughout the movie that I'd seen this before. Quite frankly, apart from the original The Mummy with Boris Karloff, the Mummy movies are not my favorites among the old Universal horrors. They're not bad, but they do get a bit repetitive.<br /><br />There are some great scenes in the movie (the scene with Ananka coming to life in the swamp for instance) but overall this didn't do much for me.<br /><br />It's worth seeing if you want to be completest and see all of the mummy movies, but otherwise you might want to pass on this one.\",\n",
              "       b'\"Best in Show\" is a often hilarious mockumentary that takes us into the world of dog shows and some of the dog owners who prepare for the event. The only thing that separates this movie from real dog shows is that the dogs in \"Best in Show\" act more sane than their owners! Funny stuff from a top-notch cast that includes Eugene Levy (who co-wrote the film), Catherine O\\'Hara, Parker Posey, Michael McKean, Jennifer Coolidge, Jane Lynch, and Christopher Guest (who co-wrote with Levy and directed). They\\'re all funny, but Fred Willard steals the movie with his explosively funny performance as the dog show announcer who says the most outrageous things. Plus the dogs are cute too. \"Best in Show\" isn\\'t exactly the laugh riot that I expected, but there are laughs and it\\'s worth seeing.<br /><br />*** (out of four)'],\n",
              "      dtype=object)>"
            ]
          },
          "metadata": {},
          "execution_count": 42
        }
      ]
    },
    {
      "cell_type": "code",
      "metadata": {
        "id": "mTuUhWVvqF3m"
      },
      "source": [
        "vectorized_examples = vectorizer_layer(examples)"
      ],
      "execution_count": 43,
      "outputs": []
    },
    {
      "cell_type": "code",
      "metadata": {
        "colab": {
          "base_uri": "https://localhost:8080/"
        },
        "id": "JFnn0w0lqnAv",
        "outputId": "65da898e-2b29-4399-8617-db4a16afddca"
      },
      "source": [
        "vectorized_examples.shape"
      ],
      "execution_count": 44,
      "outputs": [
        {
          "output_type": "execute_result",
          "data": {
            "text/plain": [
              "TensorShape([64, 856])"
            ]
          },
          "metadata": {},
          "execution_count": 44
        }
      ]
    },
    {
      "cell_type": "code",
      "metadata": {
        "colab": {
          "base_uri": "https://localhost:8080/"
        },
        "id": "gU1tEuZnwpSD",
        "outputId": "bcb72c11-a78b-4427-b51f-d149e3717c4b"
      },
      "source": [
        "vectorized_examples[ : 3]"
      ],
      "execution_count": 45,
      "outputs": [
        {
          "output_type": "execute_result",
          "data": {
            "text/plain": [
              "<tf.Tensor: shape=(3, 856), dtype=int64, numpy=\n",
              "array([[410,   1,  51, ...,   0,   0,   0],\n",
              "       [  2,   1,   1, ...,   0,   0,   0],\n",
              "       [114,   8, 118, ...,   0,   0,   0]])>"
            ]
          },
          "metadata": {},
          "execution_count": 45
        }
      ]
    },
    {
      "cell_type": "code",
      "metadata": {
        "colab": {
          "base_uri": "https://localhost:8080/"
        },
        "id": "zKGBUXkdqaw-",
        "outputId": "65f50972-335c-41b0-9014-cde047320445"
      },
      "source": [
        "examples.shape"
      ],
      "execution_count": 46,
      "outputs": [
        {
          "output_type": "execute_result",
          "data": {
            "text/plain": [
              "TensorShape([64])"
            ]
          },
          "metadata": {},
          "execution_count": 46
        }
      ]
    },
    {
      "cell_type": "code",
      "metadata": {
        "id": "xiyOYMpnyxrt"
      },
      "source": [
        ""
      ],
      "execution_count": 47,
      "outputs": []
    },
    {
      "cell_type": "markdown",
      "metadata": {
        "id": "-Ia3DMvZCsWG"
      },
      "source": [
        "## Create and Train a RNN Model"
      ]
    },
    {
      "cell_type": "code",
      "metadata": {
        "id": "NvXPOoZryxzZ"
      },
      "source": [
        ""
      ],
      "execution_count": null,
      "outputs": []
    },
    {
      "cell_type": "code",
      "metadata": {
        "id": "IlnMc0hO4acf"
      },
      "source": [
        "model = tf.keras.Sequential([ vectorizer_layer,\n",
        "                              tf.keras.layers.Embedding(input_dim=VOCAB_SIZE, output_dim=64),\n",
        "                              tf.keras.layers.Bidirectional(tf.keras.layers.LSTM(64)),\n",
        "                              tf.keras.layers.Dense(64, activation = 'relu'),\n",
        "                              tf.keras.layers.Dense(1, ) ])"
      ],
      "execution_count": 53,
      "outputs": []
    },
    {
      "cell_type": "code",
      "metadata": {
        "id": "Zo5eRmff8oao"
      },
      "source": [
        ""
      ],
      "execution_count": null,
      "outputs": []
    },
    {
      "cell_type": "code",
      "metadata": {
        "colab": {
          "base_uri": "https://localhost:8080/"
        },
        "id": "7OjJIayI4aff",
        "outputId": "0bbddd8f-326e-44b3-d55c-f017245697c9"
      },
      "source": [
        "sample_text = ('The movie was cool. The animation and the graphics '\n",
        "               'were out of this world. I would recommend this movie.')\n",
        "predictions = model.predict(np.array([sample_text]))\n",
        "print(predictions[0])"
      ],
      "execution_count": 54,
      "outputs": [
        {
          "output_type": "stream",
          "name": "stdout",
          "text": [
            "[0.00088742]\n"
          ]
        }
      ]
    },
    {
      "cell_type": "code",
      "metadata": {
        "id": "x_2w_Edx8Uor"
      },
      "source": [
        ""
      ],
      "execution_count": 54,
      "outputs": []
    },
    {
      "cell_type": "code",
      "metadata": {
        "id": "N5zhLS2c5WTQ"
      },
      "source": [
        "model.compile(loss=tf.keras.losses.BinaryCrossentropy(from_logits=True),\n",
        "              optimizer=tf.keras.optimizers.Adam(1e-4),\n",
        "              metrics=['accuracy'])"
      ],
      "execution_count": 58,
      "outputs": []
    },
    {
      "cell_type": "code",
      "metadata": {
        "id": "swI36snPX-Cz"
      },
      "source": [
        ""
      ],
      "execution_count": 58,
      "outputs": []
    },
    {
      "cell_type": "code",
      "metadata": {
        "colab": {
          "base_uri": "https://localhost:8080/"
        },
        "id": "TNorf4g55qca",
        "outputId": "3cd83980-b3e4-46b1-fe3d-7ec4cbad9544"
      },
      "source": [
        "model.summary()"
      ],
      "execution_count": 59,
      "outputs": [
        {
          "output_type": "stream",
          "name": "stdout",
          "text": [
            "Model: \"sequential\"\n",
            "_________________________________________________________________\n",
            "Layer (type)                 Output Shape              Param #   \n",
            "=================================================================\n",
            "text_vectorization (TextVect (None, None)              0         \n",
            "_________________________________________________________________\n",
            "embedding (Embedding)        (None, None, 64)          64000     \n",
            "_________________________________________________________________\n",
            "bidirectional (Bidirectional (None, 128)               66048     \n",
            "_________________________________________________________________\n",
            "dense (Dense)                (None, 64)                8256      \n",
            "_________________________________________________________________\n",
            "dense_1 (Dense)              (None, 1)                 65        \n",
            "=================================================================\n",
            "Total params: 138,369\n",
            "Trainable params: 138,369\n",
            "Non-trainable params: 0\n",
            "_________________________________________________________________\n"
          ]
        }
      ]
    },
    {
      "cell_type": "code",
      "metadata": {
        "id": "yU4UUE-dJSK_",
        "colab": {
          "base_uri": "https://localhost:8080/",
          "height": 644
        },
        "outputId": "4a175327-5a67-4f3a-d60e-ac8f40b1472f"
      },
      "source": [
        "tf.keras.utils.plot_model(model, show_shapes=True)"
      ],
      "execution_count": 60,
      "outputs": [
        {
          "output_type": "execute_result",
          "data": {
            "image/png": "[encoded data removed]",
            "text/plain": [
              "<IPython.core.display.Image object>"
            ]
          },
          "metadata": {},
          "execution_count": 60
        }
      ]
    },
    {
      "cell_type": "code",
      "metadata": {
        "colab": {
          "base_uri": "https://localhost:8080/"
        },
        "id": "jtwmYkIO6C-l",
        "outputId": "aa732d51-b43c-40d6-9e3c-b58ad134bd34"
      },
      "source": [
        "history = model.fit(train_ds,\n",
        "                    epochs=10,\n",
        "                    validation_data=valid_ds)"
      ],
      "execution_count": 62,
      "outputs": [
        {
          "output_type": "stream",
          "name": "stdout",
          "text": [
            "Epoch 1/10\n",
            "469/469 [==============================] - 107s 229ms/step - loss: 0.3081 - accuracy: 0.8677 - val_loss: 0.3487 - val_accuracy: 0.8510\n",
            "Epoch 2/10\n",
            "469/469 [==============================] - 107s 229ms/step - loss: 0.3059 - accuracy: 0.8685 - val_loss: 0.3522 - val_accuracy: 0.8501\n",
            "Epoch 3/10\n",
            "469/469 [==============================] - 108s 229ms/step - loss: 0.3037 - accuracy: 0.8694 - val_loss: 0.3483 - val_accuracy: 0.8502\n",
            "Epoch 4/10\n",
            "469/469 [==============================] - 107s 228ms/step - loss: 0.3027 - accuracy: 0.8701 - val_loss: 0.3510 - val_accuracy: 0.8514\n",
            "Epoch 5/10\n",
            "469/469 [==============================] - 107s 228ms/step - loss: 0.3008 - accuracy: 0.8704 - val_loss: 0.3563 - val_accuracy: 0.8512\n",
            "Epoch 6/10\n",
            "469/469 [==============================] - 107s 228ms/step - loss: 0.2996 - accuracy: 0.8707 - val_loss: 0.3602 - val_accuracy: 0.8502\n",
            "Epoch 7/10\n",
            "469/469 [==============================] - 107s 228ms/step - loss: 0.2988 - accuracy: 0.8704 - val_loss: 0.3501 - val_accuracy: 0.8492\n",
            "Epoch 8/10\n",
            "469/469 [==============================] - 108s 230ms/step - loss: 0.2976 - accuracy: 0.8711 - val_loss: 0.3574 - val_accuracy: 0.8499\n",
            "Epoch 9/10\n",
            "469/469 [==============================] - 108s 229ms/step - loss: 0.2970 - accuracy: 0.8713 - val_loss: 0.3531 - val_accuracy: 0.8336\n",
            "Epoch 10/10\n",
            "469/469 [==============================] - 107s 228ms/step - loss: 0.2955 - accuracy: 0.8706 - val_loss: 0.3526 - val_accuracy: 0.8479\n"
          ]
        }
      ]
    },
    {
      "cell_type": "code",
      "metadata": {
        "id": "Y97Xtdqa63kG"
      },
      "source": [
        ""
      ],
      "execution_count": 62,
      "outputs": []
    },
    {
      "cell_type": "code",
      "metadata": {
        "colab": {
          "base_uri": "https://localhost:8080/"
        },
        "id": "-RoNktMx6yjp",
        "outputId": "7f278b68-cd75-43ab-a6db-f1843472bc4b"
      },
      "source": [
        "test_loss, test_acc = model.evaluate(test_ds)\n",
        "print('Test Loss:', test_loss)\n",
        "print('Test Accuracy:', test_acc)"
      ],
      "execution_count": 63,
      "outputs": [
        {
          "output_type": "stream",
          "name": "stdout",
          "text": [
            "157/157 [==============================] - 14s 87ms/step - loss: 0.3414 - accuracy: 0.8508\n",
            "Test Loss: 0.3413609266281128\n",
            "Test Accuracy: 0.8507999777793884\n"
          ]
        }
      ]
    },
    {
      "cell_type": "code",
      "metadata": {
        "id": "hENRHreQ7GHm"
      },
      "source": [
        ""
      ],
      "execution_count": null,
      "outputs": []
    },
    {
      "cell_type": "code",
      "metadata": {
        "id": "Ucuxfow26r3Q"
      },
      "source": [
        ""
      ],
      "execution_count": null,
      "outputs": []
    },
    {
      "cell_type": "markdown",
      "metadata": {
        "id": "-TpI3fVRC4os"
      },
      "source": [
        "## Plot Learning Curves"
      ]
    },
    {
      "cell_type": "code",
      "metadata": {
        "colab": {
          "base_uri": "https://localhost:8080/",
          "height": 893
        },
        "id": "KN6xA0aDC6b1",
        "outputId": "a57dc4ba-7a8b-4479-fec5-9e04ca7d9c67"
      },
      "source": [
        "fig, ax = plt.subplots(2, 1, figsize=(15,15))\n",
        "\n",
        "ax[0].plot(history.history[\"loss\"], \"x-\", label=\"Train_Loss\")\n",
        "ax[0].plot(history.history[\"val_loss\"], \"x-\", label=\"Valid_Loss\")\n",
        "ax[0].title.set_text(\"Train And Valid Loss\")\n",
        "ax[0].legend(loc=\"best\")\n",
        "ax[0].set_xlabel(\"Epoch\")\n",
        "ax[0].set_ylabel(\"Loss\")\n",
        "\n",
        "\n",
        "ax[1].plot(history.history[\"accuracy\"], \"x-\", label=\"Train_Accuracy\")\n",
        "ax[1].plot(history.history[\"val_accuracy\"], \"x-\", label=\"Valid_Accuracy\")\n",
        "ax[1].title.set_text(\"Train And Valid Accuracy\")\n",
        "ax[1].legend(loc=\"best\")\n",
        "ax[1].set_xlabel(\"Epoch\")\n",
        "ax[1].set_ylabel(\"Accuracy\")\n",
        "\n",
        "\n",
        "plt.show()"
      ],
      "execution_count": 81,
      "outputs": [
        {
          "output_type": "display_data",
          "data": {
            "image/png": "[encoded data removed]",
            "text/plain": [
              "<Figure size 1080x1080 with 2 Axes>"
            ]
          },
          "metadata": {
            "needs_background": "light"
          }
        }
      ]
    },
    {
      "cell_type": "code",
      "metadata": {
        "id": "QtyYWFzEEgBC"
      },
      "source": [
        ""
      ],
      "execution_count": null,
      "outputs": []
    }
  ]
}